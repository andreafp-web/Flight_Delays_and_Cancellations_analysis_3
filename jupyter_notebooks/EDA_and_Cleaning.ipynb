{
 "cells": [
  {
   "cell_type": "markdown",
   "id": "b4902d7b",
   "metadata": {},
   "source": [
    "\n",
    "\n",
    "Flight Delays and Cancellations – Exploratory Data Analysis\n",
    "\n",
    "This notebook begins the analysis of flight data from 2024. We'll explore the structure of the dataset, clean missing or inconsistent values, and generate initial visualizations to understand flight patterns, delays, and cancellations.\n",
    "\n",
    "### Goals:\n",
    "- Load and inspect the dataset\n",
    "- Identify missing values and data types\n",
    "- Clean and preprocess the data\n",
    "- Visualize basic distributions and patterns\n"
   ]
  },
  {
   "cell_type": "markdown",
   "id": "dc48a017",
   "metadata": {},
   "source": [
    "### Loading the dataset\n",
    "Imported the flight data from a CSV file and display the first few rows. This helps verify that the dataset loads correctly and gives us a quick look at its structure.\n"
   ]
  },
  {
   "cell_type": "code",
   "execution_count": 6,
   "id": "38a0deea",
   "metadata": {},
   "outputs": [
    {
     "data": {
      "text/html": [
       "<div>\n",
       "<style scoped>\n",
       "    .dataframe tbody tr th:only-of-type {\n",
       "        vertical-align: middle;\n",
       "    }\n",
       "\n",
       "    .dataframe tbody tr th {\n",
       "        vertical-align: top;\n",
       "    }\n",
       "\n",
       "    .dataframe thead th {\n",
       "        text-align: right;\n",
       "    }\n",
       "</style>\n",
       "<table border=\"1\" class=\"dataframe\">\n",
       "  <thead>\n",
       "    <tr style=\"text-align: right;\">\n",
       "      <th></th>\n",
       "      <th>year</th>\n",
       "      <th>month</th>\n",
       "      <th>day_of_month</th>\n",
       "      <th>day_of_week</th>\n",
       "      <th>fl_date</th>\n",
       "      <th>origin</th>\n",
       "      <th>origin_city_name</th>\n",
       "      <th>origin_state_nm</th>\n",
       "      <th>dep_time</th>\n",
       "      <th>taxi_out</th>\n",
       "      <th>wheels_off</th>\n",
       "      <th>wheels_on</th>\n",
       "      <th>taxi_in</th>\n",
       "      <th>cancelled</th>\n",
       "      <th>air_time</th>\n",
       "      <th>distance</th>\n",
       "      <th>weather_delay</th>\n",
       "      <th>late_aircraft_delay</th>\n",
       "    </tr>\n",
       "  </thead>\n",
       "  <tbody>\n",
       "    <tr>\n",
       "      <th>0</th>\n",
       "      <td>2024</td>\n",
       "      <td>1</td>\n",
       "      <td>1</td>\n",
       "      <td>1</td>\n",
       "      <td>1/1/2024</td>\n",
       "      <td>JFK</td>\n",
       "      <td>New York, NY</td>\n",
       "      <td>New York</td>\n",
       "      <td>1247.0</td>\n",
       "      <td>31.0</td>\n",
       "      <td>1318.0</td>\n",
       "      <td>1442.0</td>\n",
       "      <td>7.0</td>\n",
       "      <td>0</td>\n",
       "      <td>84.0</td>\n",
       "      <td>509</td>\n",
       "      <td>0</td>\n",
       "      <td>0</td>\n",
       "    </tr>\n",
       "    <tr>\n",
       "      <th>1</th>\n",
       "      <td>2024</td>\n",
       "      <td>1</td>\n",
       "      <td>1</td>\n",
       "      <td>1</td>\n",
       "      <td>1/1/2024</td>\n",
       "      <td>MSP</td>\n",
       "      <td>Minneapolis, MN</td>\n",
       "      <td>Minnesota</td>\n",
       "      <td>1001.0</td>\n",
       "      <td>20.0</td>\n",
       "      <td>1021.0</td>\n",
       "      <td>1249.0</td>\n",
       "      <td>6.0</td>\n",
       "      <td>0</td>\n",
       "      <td>88.0</td>\n",
       "      <td>622</td>\n",
       "      <td>0</td>\n",
       "      <td>0</td>\n",
       "    </tr>\n",
       "    <tr>\n",
       "      <th>2</th>\n",
       "      <td>2024</td>\n",
       "      <td>1</td>\n",
       "      <td>1</td>\n",
       "      <td>1</td>\n",
       "      <td>1/1/2024</td>\n",
       "      <td>JFK</td>\n",
       "      <td>New York, NY</td>\n",
       "      <td>New York</td>\n",
       "      <td>1411.0</td>\n",
       "      <td>21.0</td>\n",
       "      <td>1432.0</td>\n",
       "      <td>1533.0</td>\n",
       "      <td>8.0</td>\n",
       "      <td>0</td>\n",
       "      <td>61.0</td>\n",
       "      <td>288</td>\n",
       "      <td>0</td>\n",
       "      <td>0</td>\n",
       "    </tr>\n",
       "    <tr>\n",
       "      <th>3</th>\n",
       "      <td>2024</td>\n",
       "      <td>1</td>\n",
       "      <td>1</td>\n",
       "      <td>1</td>\n",
       "      <td>1/1/2024</td>\n",
       "      <td>RIC</td>\n",
       "      <td>Richmond, VA</td>\n",
       "      <td>Virginia</td>\n",
       "      <td>1643.0</td>\n",
       "      <td>13.0</td>\n",
       "      <td>1656.0</td>\n",
       "      <td>1747.0</td>\n",
       "      <td>12.0</td>\n",
       "      <td>0</td>\n",
       "      <td>51.0</td>\n",
       "      <td>288</td>\n",
       "      <td>0</td>\n",
       "      <td>0</td>\n",
       "    </tr>\n",
       "    <tr>\n",
       "      <th>4</th>\n",
       "      <td>2024</td>\n",
       "      <td>1</td>\n",
       "      <td>1</td>\n",
       "      <td>1</td>\n",
       "      <td>1/1/2024</td>\n",
       "      <td>DTW</td>\n",
       "      <td>Detroit, MI</td>\n",
       "      <td>Michigan</td>\n",
       "      <td>1010.0</td>\n",
       "      <td>21.0</td>\n",
       "      <td>1031.0</td>\n",
       "      <td>1016.0</td>\n",
       "      <td>4.0</td>\n",
       "      <td>0</td>\n",
       "      <td>45.0</td>\n",
       "      <td>237</td>\n",
       "      <td>0</td>\n",
       "      <td>0</td>\n",
       "    </tr>\n",
       "  </tbody>\n",
       "</table>\n",
       "</div>"
      ],
      "text/plain": [
       "   year  month  day_of_month  day_of_week   fl_date origin origin_city_name  \\\n",
       "0  2024      1             1            1  1/1/2024    JFK     New York, NY   \n",
       "1  2024      1             1            1  1/1/2024    MSP  Minneapolis, MN   \n",
       "2  2024      1             1            1  1/1/2024    JFK     New York, NY   \n",
       "3  2024      1             1            1  1/1/2024    RIC     Richmond, VA   \n",
       "4  2024      1             1            1  1/1/2024    DTW      Detroit, MI   \n",
       "\n",
       "  origin_state_nm  dep_time  taxi_out  wheels_off  wheels_on  taxi_in  \\\n",
       "0        New York    1247.0      31.0      1318.0     1442.0      7.0   \n",
       "1       Minnesota    1001.0      20.0      1021.0     1249.0      6.0   \n",
       "2        New York    1411.0      21.0      1432.0     1533.0      8.0   \n",
       "3        Virginia    1643.0      13.0      1656.0     1747.0     12.0   \n",
       "4        Michigan    1010.0      21.0      1031.0     1016.0      4.0   \n",
       "\n",
       "   cancelled  air_time  distance  weather_delay  late_aircraft_delay  \n",
       "0          0      84.0       509              0                    0  \n",
       "1          0      88.0       622              0                    0  \n",
       "2          0      61.0       288              0                    0  \n",
       "3          0      51.0       288              0                    0  \n",
       "4          0      45.0       237              0                    0  "
      ]
     },
     "execution_count": 6,
     "metadata": {},
     "output_type": "execute_result"
    }
   ],
   "source": [
    "\n",
    "import pandas as pd\n",
    "\n",
    "# Load the dataset\n",
    "df = pd.read_csv(\"flight_data_2024.csv\")  \n",
    "\n",
    "# Show the first 5 rows\n",
    "df.head()"
   ]
  },
  {
   "cell_type": "markdown",
   "id": "2f2d4877",
   "metadata": {},
   "source": [
    "### Dataset structure and data types\n",
    "We use df.info() to examine the number of entries, column names, data types, and missing values. This helps us identify which columns may need cleaning or type conversion.\n"
   ]
  },
  {
   "cell_type": "code",
   "execution_count": 7,
   "id": "a98a377c",
   "metadata": {},
   "outputs": [
    {
     "name": "stdout",
     "output_type": "stream",
     "text": [
      "<class 'pandas.core.frame.DataFrame'>\n",
      "RangeIndex: 1048575 entries, 0 to 1048574\n",
      "Data columns (total 18 columns):\n",
      " #   Column               Non-Null Count    Dtype  \n",
      "---  ------               --------------    -----  \n",
      " 0   year                 1048575 non-null  int64  \n",
      " 1   month                1048575 non-null  int64  \n",
      " 2   day_of_month         1048575 non-null  int64  \n",
      " 3   day_of_week          1048575 non-null  int64  \n",
      " 4   fl_date              1048575 non-null  object \n",
      " 5   origin               1048575 non-null  object \n",
      " 6   origin_city_name     1048575 non-null  object \n",
      " 7   origin_state_nm      1048575 non-null  object \n",
      " 8   dep_time             1026022 non-null  float64\n",
      " 9   taxi_out             1025450 non-null  float64\n",
      " 10  wheels_off           1025450 non-null  float64\n",
      " 11  wheels_on            1024898 non-null  float64\n",
      " 12  taxi_in              1024898 non-null  float64\n",
      " 13  cancelled            1048575 non-null  int64  \n",
      " 14  air_time             1022824 non-null  float64\n",
      " 15  distance             1048575 non-null  int64  \n",
      " 16  weather_delay        1048575 non-null  int64  \n",
      " 17  late_aircraft_delay  1048575 non-null  int64  \n",
      "dtypes: float64(6), int64(8), object(4)\n",
      "memory usage: 144.0+ MB\n"
     ]
    }
   ],
   "source": [
    "# Overview of columns, data types, and missing values\n",
    "df.info()\n"
   ]
  },
  {
   "cell_type": "markdown",
   "id": "c6bd22cf",
   "metadata": {},
   "source": [
    "### Summary statistics\n",
    "df.describe() provides basic statistics for numerical columns, including mean, standard deviation, and percentiles. This helps us understand the distribution and scale of delay-related metrics.\n"
   ]
  },
  {
   "cell_type": "code",
   "execution_count": 8,
   "id": "5e5b45b5",
   "metadata": {},
   "outputs": [
    {
     "data": {
      "text/html": [
       "<div>\n",
       "<style scoped>\n",
       "    .dataframe tbody tr th:only-of-type {\n",
       "        vertical-align: middle;\n",
       "    }\n",
       "\n",
       "    .dataframe tbody tr th {\n",
       "        vertical-align: top;\n",
       "    }\n",
       "\n",
       "    .dataframe thead th {\n",
       "        text-align: right;\n",
       "    }\n",
       "</style>\n",
       "<table border=\"1\" class=\"dataframe\">\n",
       "  <thead>\n",
       "    <tr style=\"text-align: right;\">\n",
       "      <th></th>\n",
       "      <th>year</th>\n",
       "      <th>month</th>\n",
       "      <th>day_of_month</th>\n",
       "      <th>day_of_week</th>\n",
       "      <th>dep_time</th>\n",
       "      <th>taxi_out</th>\n",
       "      <th>wheels_off</th>\n",
       "      <th>wheels_on</th>\n",
       "      <th>taxi_in</th>\n",
       "      <th>cancelled</th>\n",
       "      <th>air_time</th>\n",
       "      <th>distance</th>\n",
       "      <th>weather_delay</th>\n",
       "      <th>late_aircraft_delay</th>\n",
       "    </tr>\n",
       "  </thead>\n",
       "  <tbody>\n",
       "    <tr>\n",
       "      <th>count</th>\n",
       "      <td>1048575.0</td>\n",
       "      <td>1.048575e+06</td>\n",
       "      <td>1.048575e+06</td>\n",
       "      <td>1.048575e+06</td>\n",
       "      <td>1.026022e+06</td>\n",
       "      <td>1.025450e+06</td>\n",
       "      <td>1.025450e+06</td>\n",
       "      <td>1.024898e+06</td>\n",
       "      <td>1.024898e+06</td>\n",
       "      <td>1.048575e+06</td>\n",
       "      <td>1.022824e+06</td>\n",
       "      <td>1.048575e+06</td>\n",
       "      <td>1.048575e+06</td>\n",
       "      <td>1.048575e+06</td>\n",
       "    </tr>\n",
       "    <tr>\n",
       "      <th>mean</th>\n",
       "      <td>2024.0</td>\n",
       "      <td>1.478081e+00</td>\n",
       "      <td>1.530512e+01</td>\n",
       "      <td>3.893483e+00</td>\n",
       "      <td>1.325074e+03</td>\n",
       "      <td>1.825012e+01</td>\n",
       "      <td>1.349996e+03</td>\n",
       "      <td>1.476156e+03</td>\n",
       "      <td>8.082517e+00</td>\n",
       "      <td>2.222635e-02</td>\n",
       "      <td>1.162270e+02</td>\n",
       "      <td>8.345389e+02</td>\n",
       "      <td>1.194321e+00</td>\n",
       "      <td>5.326660e+00</td>\n",
       "    </tr>\n",
       "    <tr>\n",
       "      <th>std</th>\n",
       "      <td>0.0</td>\n",
       "      <td>4.995196e-01</td>\n",
       "      <td>8.585503e+00</td>\n",
       "      <td>2.010038e+00</td>\n",
       "      <td>4.972990e+02</td>\n",
       "      <td>1.044025e+01</td>\n",
       "      <td>4.980426e+02</td>\n",
       "      <td>5.198682e+02</td>\n",
       "      <td>6.512591e+00</td>\n",
       "      <td>1.474190e-01</td>\n",
       "      <td>7.091204e+01</td>\n",
       "      <td>5.923104e+02</td>\n",
       "      <td>2.005819e+01</td>\n",
       "      <td>2.975676e+01</td>\n",
       "    </tr>\n",
       "    <tr>\n",
       "      <th>min</th>\n",
       "      <td>2024.0</td>\n",
       "      <td>1.000000e+00</td>\n",
       "      <td>1.000000e+00</td>\n",
       "      <td>1.000000e+00</td>\n",
       "      <td>1.000000e+00</td>\n",
       "      <td>1.000000e+00</td>\n",
       "      <td>1.000000e+00</td>\n",
       "      <td>1.000000e+00</td>\n",
       "      <td>1.000000e+00</td>\n",
       "      <td>0.000000e+00</td>\n",
       "      <td>8.000000e+00</td>\n",
       "      <td>3.100000e+01</td>\n",
       "      <td>0.000000e+00</td>\n",
       "      <td>0.000000e+00</td>\n",
       "    </tr>\n",
       "    <tr>\n",
       "      <th>25%</th>\n",
       "      <td>2024.0</td>\n",
       "      <td>1.000000e+00</td>\n",
       "      <td>8.000000e+00</td>\n",
       "      <td>2.000000e+00</td>\n",
       "      <td>9.110000e+02</td>\n",
       "      <td>1.200000e+01</td>\n",
       "      <td>9.290000e+02</td>\n",
       "      <td>1.058000e+03</td>\n",
       "      <td>4.000000e+00</td>\n",
       "      <td>0.000000e+00</td>\n",
       "      <td>6.400000e+01</td>\n",
       "      <td>4.020000e+02</td>\n",
       "      <td>0.000000e+00</td>\n",
       "      <td>0.000000e+00</td>\n",
       "    </tr>\n",
       "    <tr>\n",
       "      <th>50%</th>\n",
       "      <td>2024.0</td>\n",
       "      <td>1.000000e+00</td>\n",
       "      <td>1.500000e+01</td>\n",
       "      <td>4.000000e+00</td>\n",
       "      <td>1.323000e+03</td>\n",
       "      <td>1.500000e+01</td>\n",
       "      <td>1.337000e+03</td>\n",
       "      <td>1.510000e+03</td>\n",
       "      <td>6.000000e+00</td>\n",
       "      <td>0.000000e+00</td>\n",
       "      <td>1.000000e+02</td>\n",
       "      <td>6.920000e+02</td>\n",
       "      <td>0.000000e+00</td>\n",
       "      <td>0.000000e+00</td>\n",
       "    </tr>\n",
       "    <tr>\n",
       "      <th>75%</th>\n",
       "      <td>2024.0</td>\n",
       "      <td>2.000000e+00</td>\n",
       "      <td>2.300000e+01</td>\n",
       "      <td>6.000000e+00</td>\n",
       "      <td>1.736000e+03</td>\n",
       "      <td>2.100000e+01</td>\n",
       "      <td>1.750000e+03</td>\n",
       "      <td>1.914000e+03</td>\n",
       "      <td>9.000000e+00</td>\n",
       "      <td>0.000000e+00</td>\n",
       "      <td>1.470000e+02</td>\n",
       "      <td>1.069000e+03</td>\n",
       "      <td>0.000000e+00</td>\n",
       "      <td>0.000000e+00</td>\n",
       "    </tr>\n",
       "    <tr>\n",
       "      <th>max</th>\n",
       "      <td>2024.0</td>\n",
       "      <td>2.000000e+00</td>\n",
       "      <td>3.100000e+01</td>\n",
       "      <td>7.000000e+00</td>\n",
       "      <td>2.400000e+03</td>\n",
       "      <td>2.130000e+02</td>\n",
       "      <td>2.400000e+03</td>\n",
       "      <td>2.400000e+03</td>\n",
       "      <td>4.440000e+02</td>\n",
       "      <td>1.000000e+00</td>\n",
       "      <td>7.230000e+02</td>\n",
       "      <td>5.095000e+03</td>\n",
       "      <td>1.804000e+03</td>\n",
       "      <td>2.100000e+03</td>\n",
       "    </tr>\n",
       "  </tbody>\n",
       "</table>\n",
       "</div>"
      ],
      "text/plain": [
       "            year         month  day_of_month   day_of_week      dep_time  \\\n",
       "count  1048575.0  1.048575e+06  1.048575e+06  1.048575e+06  1.026022e+06   \n",
       "mean      2024.0  1.478081e+00  1.530512e+01  3.893483e+00  1.325074e+03   \n",
       "std          0.0  4.995196e-01  8.585503e+00  2.010038e+00  4.972990e+02   \n",
       "min       2024.0  1.000000e+00  1.000000e+00  1.000000e+00  1.000000e+00   \n",
       "25%       2024.0  1.000000e+00  8.000000e+00  2.000000e+00  9.110000e+02   \n",
       "50%       2024.0  1.000000e+00  1.500000e+01  4.000000e+00  1.323000e+03   \n",
       "75%       2024.0  2.000000e+00  2.300000e+01  6.000000e+00  1.736000e+03   \n",
       "max       2024.0  2.000000e+00  3.100000e+01  7.000000e+00  2.400000e+03   \n",
       "\n",
       "           taxi_out    wheels_off     wheels_on       taxi_in     cancelled  \\\n",
       "count  1.025450e+06  1.025450e+06  1.024898e+06  1.024898e+06  1.048575e+06   \n",
       "mean   1.825012e+01  1.349996e+03  1.476156e+03  8.082517e+00  2.222635e-02   \n",
       "std    1.044025e+01  4.980426e+02  5.198682e+02  6.512591e+00  1.474190e-01   \n",
       "min    1.000000e+00  1.000000e+00  1.000000e+00  1.000000e+00  0.000000e+00   \n",
       "25%    1.200000e+01  9.290000e+02  1.058000e+03  4.000000e+00  0.000000e+00   \n",
       "50%    1.500000e+01  1.337000e+03  1.510000e+03  6.000000e+00  0.000000e+00   \n",
       "75%    2.100000e+01  1.750000e+03  1.914000e+03  9.000000e+00  0.000000e+00   \n",
       "max    2.130000e+02  2.400000e+03  2.400000e+03  4.440000e+02  1.000000e+00   \n",
       "\n",
       "           air_time      distance  weather_delay  late_aircraft_delay  \n",
       "count  1.022824e+06  1.048575e+06   1.048575e+06         1.048575e+06  \n",
       "mean   1.162270e+02  8.345389e+02   1.194321e+00         5.326660e+00  \n",
       "std    7.091204e+01  5.923104e+02   2.005819e+01         2.975676e+01  \n",
       "min    8.000000e+00  3.100000e+01   0.000000e+00         0.000000e+00  \n",
       "25%    6.400000e+01  4.020000e+02   0.000000e+00         0.000000e+00  \n",
       "50%    1.000000e+02  6.920000e+02   0.000000e+00         0.000000e+00  \n",
       "75%    1.470000e+02  1.069000e+03   0.000000e+00         0.000000e+00  \n",
       "max    7.230000e+02  5.095000e+03   1.804000e+03         2.100000e+03  "
      ]
     },
     "execution_count": 8,
     "metadata": {},
     "output_type": "execute_result"
    }
   ],
   "source": [
    "# Summary statistics for numerical columns\n",
    "df.describe()\n",
    "\n"
   ]
  },
  {
   "cell_type": "markdown",
   "id": "c0d0d710",
   "metadata": {},
   "source": [
    "### Missing values per column\n",
    "We count the number of missing values in each column to identify which features need cleaning or imputation.\n"
   ]
  },
  {
   "cell_type": "code",
   "execution_count": 9,
   "id": "b3c4303e",
   "metadata": {},
   "outputs": [
    {
     "data": {
      "text/plain": [
       "year                       0\n",
       "month                      0\n",
       "day_of_month               0\n",
       "day_of_week                0\n",
       "fl_date                    0\n",
       "origin                     0\n",
       "origin_city_name           0\n",
       "origin_state_nm            0\n",
       "dep_time               22553\n",
       "taxi_out               23125\n",
       "wheels_off             23125\n",
       "wheels_on              23677\n",
       "taxi_in                23677\n",
       "cancelled                  0\n",
       "air_time               25751\n",
       "distance                   0\n",
       "weather_delay              0\n",
       "late_aircraft_delay        0\n",
       "dtype: int64"
      ]
     },
     "execution_count": 9,
     "metadata": {},
     "output_type": "execute_result"
    }
   ],
   "source": [
    "# Count missing values per column\n",
    "df.isnull().sum()\n",
    "\n"
   ]
  },
  {
   "cell_type": "markdown",
   "id": "685149cb",
   "metadata": {},
   "source": [
    "This output shows how many missing values exist in each column. We’ll use this to decide whether to drop, impute, or otherwise handle missing data in the next step.\n"
   ]
  },
  {
   "cell_type": "code",
   "execution_count": 10,
   "id": "f1f9aab8",
   "metadata": {},
   "outputs": [
    {
     "data": {
      "text/plain": [
       "(1022824, 18)"
      ]
     },
     "execution_count": 10,
     "metadata": {},
     "output_type": "execute_result"
    }
   ],
   "source": [
    "# Drop rows with missing values (if minimal)\n",
    "df_cleaned = df.dropna()\n",
    "\n",
    "# OR: Fill missing values with 0 (if appropriate for delay counts)\n",
    "# df_cleaned = df.fillna(0)\n",
    "\n",
    "# Check shape after cleaning\n",
    "df_cleaned.shape\n"
   ]
  },
  {
   "cell_type": "markdown",
   "id": "c300ffd4",
   "metadata": {},
   "source": [
    "We handle missing values by either dropping rows with nulls or filling them with zeros, depending on the context. For delay-related columns, filling with zero may be appropriate since a missing value could imply no delay was recorded.\n"
   ]
  },
  {
   "cell_type": "code",
   "execution_count": 11,
   "id": "f7e545ea",
   "metadata": {},
   "outputs": [
    {
     "data": {
      "text/plain": [
       "0"
      ]
     },
     "execution_count": 11,
     "metadata": {},
     "output_type": "execute_result"
    }
   ],
   "source": [
    "# Check for duplicate rows\n",
    "df_cleaned.duplicated().sum()\n"
   ]
  },
  {
   "cell_type": "code",
   "execution_count": 23,
   "id": "676fddf1",
   "metadata": {},
   "outputs": [],
   "source": [
    "# Convert flight date to datetime\n",
    "df_cleaned.loc[:, 'fl_date'] = pd.to_datetime(df_cleaned['fl_date'], errors='coerce')\n",
    "\n"
   ]
  },
  {
   "cell_type": "markdown",
   "id": "d4abfd57",
   "metadata": {},
   "source": [
    "We convert `fl_date` to a datetime object to enable time-based analysis, such as trends by month or weekday. This supports temporal visualizations and modeling later in the project.\n"
   ]
  },
  {
   "cell_type": "code",
   "execution_count": 20,
   "id": "77c54d22",
   "metadata": {},
   "outputs": [],
   "source": [
    "df_cleaned.loc[:, 'dep_hour'] = pd.to_datetime(df_cleaned['dep_time'], format='%H:%M:%S', errors='coerce').dt.hour\n",
    "\n"
   ]
  },
  {
   "cell_type": "markdown",
   "id": "e472f68d",
   "metadata": {},
   "source": [
    "### Extracting Departure Hour\n",
    "\n",
    "To support time-of-day analysis in Notebook 02, we created a new column `dep_hour` by extracting the hour from the `dep_time` field. This allows us to group and compare delays based on the hour of departure.\n",
    "\n",
    "We used the following code:\n",
    "```python\n",
    "df_cleaned.loc[:, 'dep_hour'] = pd.to_datetime(df_cleaned['dep_time'], format='%H:%M:%S', errors='coerce').dt.hour\n"
   ]
  },
  {
   "cell_type": "markdown",
   "id": "451369e2",
   "metadata": {},
   "source": [
    "### Visualizing Statistical Concepts\n",
    "\n",
    "To support Objective 1.1 from the assessment criteria, we visualize key statistical measures — mean, median, and standard deviation — using the `weather_delay` column.\n",
    "\n",
    "These charts help us understand the distribution and spread of delay times, and reinforce the importance of descriptive statistics in exploratory data analysis.\n",
    "\n",
    "- The histogram shows how most flights experience minimal weather delay, with a few extreme outliers.\n",
    "- The bar chart summarizes the central tendency and variability of weather delays.\n",
    "\n"
   ]
  },
  {
   "cell_type": "code",
   "execution_count": 24,
   "id": "c79fc2dd",
   "metadata": {},
   "outputs": [
    {
     "data": {
      "image/png": "[encoded data removed]",
      "text/plain": [
       "<Figure size 1000x600 with 1 Axes>"
      ]
     },
     "metadata": {},
     "output_type": "display_data"
    }
   ],
   "source": [
    "import matplotlib.pyplot as plt\n",
    "import seaborn as sns\n",
    "\n",
    "# Histogram of weather delays\n",
    "plt.figure(figsize=(10,6))\n",
    "sns.histplot(df_cleaned['weather_delay'], bins=30, kde=True)\n",
    "plt.title('Distribution of Weather Delays')\n",
    "plt.xlabel('Weather Delay (minutes)')\n",
    "plt.ylabel('Frequency')\n",
    "plt.show()\n"
   ]
  },
  {
   "cell_type": "markdown",
   "id": "14e24c94",
   "metadata": {},
   "source": [
    "This histogram shows the distribution of weather-related delays. Most flights experience minimal delays, but there are noticeable outliers with longer delays. This supports our hypothesis testing in Notebook 02.\n"
   ]
  },
  {
   "cell_type": "code",
   "execution_count": 27,
   "id": "86b6dac0",
   "metadata": {},
   "outputs": [
    {
     "data": {
      "image/png": "[encoded data removed]",
      "text/plain": [
       "<Figure size 1000x600 with 1 Axes>"
      ]
     },
     "metadata": {},
     "output_type": "display_data"
    }
   ],
   "source": [
    "plt.figure(figsize=(10,6))\n",
    "sns.histplot(df_cleaned['weather_delay'], bins=30, kde=True, color='skyblue')\n",
    "plt.xlim(0, 100)  # Limit to typical delay range\n",
    "plt.axvline(df_cleaned['weather_delay'].mean(), color='red', linestyle='--', label='Mean')\n",
    "plt.axvline(df_cleaned['weather_delay'].median(), color='green', linestyle='-', label='Median')\n",
    "plt.title('Weather Delay Distribution (0–100 mins)')\n",
    "plt.xlabel('Weather Delay (minutes)')\n",
    "plt.ylabel('Frequency')\n",
    "plt.legend()\n",
    "plt.grid(True)\n",
    "plt.tight_layout()\n",
    "plt.show()\n",
    "\n"
   ]
  },
  {
   "cell_type": "code",
   "execution_count": 28,
   "id": "6a279d36",
   "metadata": {},
   "outputs": [
    {
     "data": {
      "image/png": "[encoded data removed]",
      "text/plain": [
       "<Figure size 1000x600 with 1 Axes>"
      ]
     },
     "metadata": {},
     "output_type": "display_data"
    }
   ],
   "source": [
    "plt.figure(figsize=(10,6))\n",
    "sns.histplot(df_cleaned['weather_delay'], bins=30, kde=True, color='skyblue')\n",
    "plt.yscale('log')  # Compress tall spikes\n",
    "plt.title('Weather Delay Distribution (Log Scale)')\n",
    "plt.xlabel('Weather Delay (minutes)')\n",
    "plt.ylabel('Log Frequency')\n",
    "plt.grid(True)\n",
    "plt.tight_layout()\n",
    "plt.show()\n"
   ]
  },
  {
   "cell_type": "code",
   "execution_count": 17,
   "id": "3f51840d",
   "metadata": {},
   "outputs": [
    {
     "data": {
      "text/plain": [
       "count    1.022824e+06\n",
       "mean     1.224390e+00\n",
       "std      2.030821e+01\n",
       "min      0.000000e+00\n",
       "25%      0.000000e+00\n",
       "50%      0.000000e+00\n",
       "75%      0.000000e+00\n",
       "max      1.804000e+03\n",
       "Name: weather_delay, dtype: float64"
      ]
     },
     "execution_count": 17,
     "metadata": {},
     "output_type": "execute_result"
    }
   ],
   "source": [
    "df_cleaned['weather_delay'].describe()\n"
   ]
  },
  {
   "cell_type": "markdown",
   "id": "57d5bdb0",
   "metadata": {},
   "source": [
    "###  Core Statistical Concepts\n",
    "\n",
    "This project uses key statistical principles to explore flight delays:\n",
    "\n",
    "- **Mean**: The average delay time, useful for understanding central tendency.\n",
    "- **Median**: The middle value, less sensitive to outliers than the mean.\n",
    "- **Standard Deviation**: Measures how spread out delay times are.\n",
    "- **Hypothesis Testing**: Used in Notebook 02 to test assumptions about delay patterns.\n",
    "- **Probability**: Helps interpret the likelihood of delays under certain conditions.\n",
    "\n",
    "These concepts guide our analysis and help uncover patterns in flight behavior.\n"
   ]
  },
  {
   "cell_type": "code",
   "execution_count": 18,
   "id": "1a502445",
   "metadata": {},
   "outputs": [
    {
     "data": {
      "text/plain": [
       "0"
      ]
     },
     "execution_count": 18,
     "metadata": {},
     "output_type": "execute_result"
    }
   ],
   "source": [
    "df_cleaned['weather_delay'].isnull().sum()\n"
   ]
  },
  {
   "cell_type": "markdown",
   "id": "9d883a28",
   "metadata": {},
   "source": [
    "### ✅ Summary\n",
    "\n",
    "This notebook successfully loaded and cleaned the flight dataset. We handled missing values, formatted time columns, and visualized delay distributions. These steps lay the groundwork for hypothesis testing and modeling in the next stages of the project.\n"
   ]
  },
  {
   "cell_type": "code",
   "execution_count": 16,
   "id": "bfdf25bb",
   "metadata": {},
   "outputs": [
    {
     "data": {
      "text/plain": [
       "0    12:47:00\n",
       "1    10:01:00\n",
       "2    14:11:00\n",
       "3    16:43:00\n",
       "4    10:10:00\n",
       "5    14:03:00\n",
       "6    09:47:00\n",
       "7    11:35:00\n",
       "8    08:10:00\n",
       "9    12:48:00\n",
       "Name: dep_time, dtype: object"
      ]
     },
     "execution_count": 16,
     "metadata": {},
     "output_type": "execute_result"
    }
   ],
   "source": [
    "df_cleaned['dep_time'].head(10)\n",
    "\n"
   ]
  },
  {
   "cell_type": "code",
   "execution_count": 21,
   "id": "7c66002d",
   "metadata": {},
   "outputs": [
    {
     "data": {
      "text/plain": [
       "0    12.0\n",
       "1    10.0\n",
       "2    14.0\n",
       "3    16.0\n",
       "4    10.0\n",
       "5    14.0\n",
       "6     9.0\n",
       "7    11.0\n",
       "8     8.0\n",
       "9    12.0\n",
       "Name: dep_hour, dtype: float64"
      ]
     },
     "execution_count": 21,
     "metadata": {},
     "output_type": "execute_result"
    }
   ],
   "source": [
    "df_cleaned['dep_hour'].head(10)\n"
   ]
  },
  {
   "cell_type": "code",
   "execution_count": 22,
   "id": "0951ec7a",
   "metadata": {},
   "outputs": [
    {
     "data": {
      "text/plain": [
       "786"
      ]
     },
     "execution_count": 22,
     "metadata": {},
     "output_type": "execute_result"
    }
   ],
   "source": [
    "df_cleaned['dep_hour'].isnull().sum()\n"
   ]
  },
  {
   "cell_type": "code",
   "execution_count": 25,
   "id": "4b35acf8",
   "metadata": {},
   "outputs": [],
   "source": [
    "# Export cleaned dataset for use in ML and Tableau\n",
    "df_cleaned.to_csv('cleaned_flight_data.csv', index=False)\n"
   ]
  }
 ],
 "metadata": {
  "kernelspec": {
   "display_name": "venv",
   "language": "python",
   "name": "python3"
  },
  "language_info": {
   "codemirror_mode": {
    "name": "ipython",
    "version": 3
   },
   "file_extension": ".py",
   "mimetype": "text/x-python",
   "name": "python",
   "nbconvert_exporter": "python",
   "pygments_lexer": "ipython3",
   "version": "3.12.10"
  }
 },
 "nbformat": 4,
 "nbformat_minor": 5
}
